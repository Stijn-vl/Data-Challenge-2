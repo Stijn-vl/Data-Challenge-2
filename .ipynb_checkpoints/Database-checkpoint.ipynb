{
 "cells": [
  {
   "cell_type": "code",
   "execution_count": 65,
   "metadata": {},
   "outputs": [],
   "source": [
    "import numpy as np\n",
    "import pandas as pd\n",
    "import os\n",
    "import tqdm\n",
    "import sqlalchemy as sqlalchemy\n",
    "from sqlalchemy import create_engine\n",
    "import sqlite3\n",
    "import time"
   ]
  },
  {
   "cell_type": "code",
   "execution_count": 236,
   "metadata": {},
   "outputs": [
    {
     "data": {
      "text/plain": [
       "'C:\\\\Users\\\\20202431\\\\Desktop\\\\Year 2\\\\DC2\\\\Repository\\\\Data-Challenge-2\\\\'"
      ]
     },
     "execution_count": 236,
     "metadata": {},
     "output_type": "execute_result"
    }
   ],
   "source": [
    "import os\n",
    "Data_Location = os.getcwd() + \"\\\\\""
   ]
  },
  {
   "cell_type": "code",
   "execution_count": 249,
   "metadata": {},
   "outputs": [],
   "source": [
    "def Get_File_List(Check_year):\n",
    "    File_List = []\n",
    "    Data_Location = os.getcwd() + \"\\\\Data_Challenge_2_Data\\\\\"\n",
    "    #\"C:\\\\Users\\\\stijn\\\\Downloads\\\\Data_Challenge_2_Data\\\\\"\n",
    "    Main_Folder = os.listdir(Data_Location)\n",
    "    for month_folder in Main_Folder:\n",
    "        if month_folder == \".DS_Store\":\n",
    "            print(\"DS_Store File skipped\")\n",
    "        else:\n",
    "            year = month_folder.split('-')[0]\n",
    "            month = month_folder.split('-')[1]\n",
    "            Sub_Folder = Data_Location + month_folder\n",
    "            if(int(year) == int(Check_year)): #set ==, > or < to select the years\n",
    "                for district_folder in os.listdir(Sub_Folder):\n",
    "                    if district_folder.endswith('-street.csv'):\n",
    "                        filename = Sub_Folder + \"\\\\\" + district_folder\n",
    "                        File_List.append(filename)\n",
    "    return File_List"
   ]
  },
  {
   "cell_type": "code",
   "execution_count": 216,
   "metadata": {},
   "outputs": [
    {
     "name": "stdout",
     "output_type": "stream",
     "text": [
      "This cell took: 0.04541015625 seconds\n"
     ]
    }
   ],
   "source": [
    "startTime = time.time()\n",
    "col_names_new = [\"Crime ID\", \"Month\", \"Year\", \"Reported by\", \"Falls within\", \"Longitude\", \"Latitude\", \"Location\",\n",
    "             \"LSOA code\", \"LSOA name\", \"Crime type\"]\n",
    "df = pd.DataFrame(columns = col_names_new)\n",
    "Data = [\"2015\",\"2016\",\"2017\", \"2018\", \"2019\", \"2020\", \"2021\"]\n",
    "\n",
    "executionTime = (time.time() - startTime)\n",
    "print('This cell took: ' + str(executionTime) + ' seconds')"
   ]
  },
  {
   "cell_type": "code",
   "execution_count": 217,
   "metadata": {},
   "outputs": [
    {
     "name": "stdout",
     "output_type": "stream",
     "text": [
      "This cell took: 0.04201555252075195 seconds\n"
     ]
    }
   ],
   "source": [
    "startTime = time.time()\n",
    "\n",
    "engine = create_engine('sqlite:///test.db')\n",
    "\n",
    "executionTime = (time.time() - startTime)\n",
    "print('This cell took: ' + str(executionTime) + ' seconds')"
   ]
  },
  {
   "cell_type": "code",
   "execution_count": 218,
   "metadata": {},
   "outputs": [
    {
     "name": "stdout",
     "output_type": "stream",
     "text": [
      "This cell took: 0.0 seconds\n"
     ]
    }
   ],
   "source": [
    "startTime = time.time()\n",
    "\n",
    "con = sqlite3.connect('test.db')\n",
    "\n",
    "executionTime = (time.time() - startTime)\n",
    "print('This cell took: ' + str(executionTime) + ' seconds')"
   ]
  },
  {
   "cell_type": "code",
   "execution_count": 250,
   "metadata": {},
   "outputs": [
    {
     "name": "stderr",
     "output_type": "stream",
     "text": [
      "\n",
      "\n",
      "  0%|                                                                                            | 0/3 [00:00<?, ?it/s]\u001b[A\u001b[A"
     ]
    },
    {
     "name": "stdout",
     "output_type": "stream",
     "text": [
      "DS_Store File skipped\n"
     ]
    },
    {
     "name": "stderr",
     "output_type": "stream",
     "text": [
      "\n",
      "\n",
      " 33%|████████████████████████████                                                        | 1/3 [01:21<02:42, 81.24s/it]\u001b[A\u001b[A"
     ]
    },
    {
     "name": "stdout",
     "output_type": "stream",
     "text": [
      "2015This year took: 81.23836612701416 seconds\n",
      "DS_Store File skipped\n"
     ]
    },
    {
     "name": "stderr",
     "output_type": "stream",
     "text": [
      "\n",
      "\n",
      " 67%|████████████████████████████████████████████████████████                            | 2/3 [02:47<01:22, 82.73s/it]\u001b[A\u001b[A"
     ]
    },
    {
     "name": "stdout",
     "output_type": "stream",
     "text": [
      "2016This year took: 167.46060228347778 seconds\n",
      "DS_Store File skipped\n"
     ]
    },
    {
     "name": "stderr",
     "output_type": "stream",
     "text": [
      "\n",
      "\n",
      "100%|████████████████████████████████████████████████████████████████████████████████████| 3/3 [04:14<00:00, 84.84s/it]\u001b[A\u001b[A"
     ]
    },
    {
     "name": "stdout",
     "output_type": "stream",
     "text": [
      "2017This year took: 254.51423692703247 seconds\n",
      "This cell took: 254.51673817634583 seconds\n"
     ]
    },
    {
     "name": "stderr",
     "output_type": "stream",
     "text": [
      "\n"
     ]
    }
   ],
   "source": [
    "startTime = time.time()\n",
    "\n",
    "for year in tqdm.tqdm(Data):\n",
    "    yearTime = time.time()\n",
    "    File_List = Get_File_List(year)\n",
    "    for File in File_List:\n",
    "        df = pd.read_csv(File, index_col=0)\n",
    "        df = df.dropna(subset = [\"Longitude\", \"Latitude\"])\n",
    "        df[[\"Year\",\"Month\"]] = df[\"Month\"].str.split(\"-\",expand=True)\n",
    "        \n",
    "        df.to_sql(\"Street\", con, if_exists = \"append\", index = False)\n",
    "        \n",
    "    executionTime = (time.time() - yearTime)\n",
    "    print( str(year) + ' year took: ' + str(executionTime) + ' seconds')\n",
    "        \n",
    "executionTime = (time.time() - startTime)\n",
    "print('This whole cell took: ' + str(executionTime) + ' seconds')"
   ]
  },
  {
   "cell_type": "code",
   "execution_count": 262,
   "metadata": {},
   "outputs": [],
   "source": [
    "get= \"SELECT * FROM Street LIMIT 100\""
   ]
  },
  {
   "cell_type": "code",
   "execution_count": 263,
   "metadata": {},
   "outputs": [],
   "source": [
    "df_temp = pd.read_sql_query(get, con)"
   ]
  },
  {
   "cell_type": "code",
   "execution_count": 264,
   "metadata": {},
   "outputs": [
    {
     "data": {
      "text/html": [
       "<div>\n",
       "<style scoped>\n",
       "    .dataframe tbody tr th:only-of-type {\n",
       "        vertical-align: middle;\n",
       "    }\n",
       "\n",
       "    .dataframe tbody tr th {\n",
       "        vertical-align: top;\n",
       "    }\n",
       "\n",
       "    .dataframe thead th {\n",
       "        text-align: right;\n",
       "    }\n",
       "</style>\n",
       "<table border=\"1\" class=\"dataframe\">\n",
       "  <thead>\n",
       "    <tr style=\"text-align: right;\">\n",
       "      <th></th>\n",
       "      <th>Month</th>\n",
       "      <th>Reported by</th>\n",
       "      <th>Falls within</th>\n",
       "      <th>Longitude</th>\n",
       "      <th>Latitude</th>\n",
       "      <th>Location</th>\n",
       "      <th>LSOA code</th>\n",
       "      <th>LSOA name</th>\n",
       "      <th>Crime type</th>\n",
       "      <th>Last outcome category</th>\n",
       "      <th>Context</th>\n",
       "      <th>Year</th>\n",
       "    </tr>\n",
       "  </thead>\n",
       "  <tbody>\n",
       "    <tr>\n",
       "      <th>0</th>\n",
       "      <td>01</td>\n",
       "      <td>Avon and Somerset Constabulary</td>\n",
       "      <td>Avon and Somerset Constabulary</td>\n",
       "      <td>-2.509930</td>\n",
       "      <td>51.410873</td>\n",
       "      <td>On or near Ludlow Close</td>\n",
       "      <td>E01014399</td>\n",
       "      <td>Bath and North East Somerset 001A</td>\n",
       "      <td>Anti-social behaviour</td>\n",
       "      <td>None</td>\n",
       "      <td>None</td>\n",
       "      <td>2015</td>\n",
       "    </tr>\n",
       "    <tr>\n",
       "      <th>1</th>\n",
       "      <td>01</td>\n",
       "      <td>Avon and Somerset Constabulary</td>\n",
       "      <td>Avon and Somerset Constabulary</td>\n",
       "      <td>-2.512153</td>\n",
       "      <td>51.412941</td>\n",
       "      <td>On or near Heathfield Close</td>\n",
       "      <td>E01014399</td>\n",
       "      <td>Bath and North East Somerset 001A</td>\n",
       "      <td>Anti-social behaviour</td>\n",
       "      <td>None</td>\n",
       "      <td>None</td>\n",
       "      <td>2015</td>\n",
       "    </tr>\n",
       "    <tr>\n",
       "      <th>2</th>\n",
       "      <td>01</td>\n",
       "      <td>Avon and Somerset Constabulary</td>\n",
       "      <td>Avon and Somerset Constabulary</td>\n",
       "      <td>-2.515816</td>\n",
       "      <td>51.408717</td>\n",
       "      <td>On or near Caroline Close</td>\n",
       "      <td>E01014399</td>\n",
       "      <td>Bath and North East Somerset 001A</td>\n",
       "      <td>Burglary</td>\n",
       "      <td>Investigation complete; no suspect identified</td>\n",
       "      <td>None</td>\n",
       "      <td>2015</td>\n",
       "    </tr>\n",
       "    <tr>\n",
       "      <th>3</th>\n",
       "      <td>01</td>\n",
       "      <td>Avon and Somerset Constabulary</td>\n",
       "      <td>Avon and Somerset Constabulary</td>\n",
       "      <td>-2.511761</td>\n",
       "      <td>51.409966</td>\n",
       "      <td>On or near Caernarvon Close</td>\n",
       "      <td>E01014399</td>\n",
       "      <td>Bath and North East Somerset 001A</td>\n",
       "      <td>Criminal damage and arson</td>\n",
       "      <td>Investigation complete; no suspect identified</td>\n",
       "      <td>None</td>\n",
       "      <td>2015</td>\n",
       "    </tr>\n",
       "    <tr>\n",
       "      <th>4</th>\n",
       "      <td>01</td>\n",
       "      <td>Avon and Somerset Constabulary</td>\n",
       "      <td>Avon and Somerset Constabulary</td>\n",
       "      <td>-2.509126</td>\n",
       "      <td>51.416137</td>\n",
       "      <td>On or near St Francis Road</td>\n",
       "      <td>E01014399</td>\n",
       "      <td>Bath and North East Somerset 001A</td>\n",
       "      <td>Other theft</td>\n",
       "      <td>Investigation complete; no suspect identified</td>\n",
       "      <td>None</td>\n",
       "      <td>2015</td>\n",
       "    </tr>\n",
       "    <tr>\n",
       "      <th>...</th>\n",
       "      <td>...</td>\n",
       "      <td>...</td>\n",
       "      <td>...</td>\n",
       "      <td>...</td>\n",
       "      <td>...</td>\n",
       "      <td>...</td>\n",
       "      <td>...</td>\n",
       "      <td>...</td>\n",
       "      <td>...</td>\n",
       "      <td>...</td>\n",
       "      <td>...</td>\n",
       "      <td>...</td>\n",
       "    </tr>\n",
       "    <tr>\n",
       "      <th>95</th>\n",
       "      <td>01</td>\n",
       "      <td>Avon and Somerset Constabulary</td>\n",
       "      <td>Avon and Somerset Constabulary</td>\n",
       "      <td>-2.483897</td>\n",
       "      <td>51.404600</td>\n",
       "      <td>On or near Witham Road</td>\n",
       "      <td>E01014398</td>\n",
       "      <td>Bath and North East Somerset 003D</td>\n",
       "      <td>Violence and sexual offences</td>\n",
       "      <td>Unable to prosecute suspect</td>\n",
       "      <td>None</td>\n",
       "      <td>2015</td>\n",
       "    </tr>\n",
       "    <tr>\n",
       "      <th>96</th>\n",
       "      <td>01</td>\n",
       "      <td>Avon and Somerset Constabulary</td>\n",
       "      <td>Avon and Somerset Constabulary</td>\n",
       "      <td>-2.478811</td>\n",
       "      <td>51.413145</td>\n",
       "      <td>On or near Ashmead Road</td>\n",
       "      <td>E01014398</td>\n",
       "      <td>Bath and North East Somerset 003D</td>\n",
       "      <td>Violence and sexual offences</td>\n",
       "      <td>Offender ordered to pay compensation</td>\n",
       "      <td>None</td>\n",
       "      <td>2015</td>\n",
       "    </tr>\n",
       "    <tr>\n",
       "      <th>97</th>\n",
       "      <td>01</td>\n",
       "      <td>Avon and Somerset Constabulary</td>\n",
       "      <td>Avon and Somerset Constabulary</td>\n",
       "      <td>-2.484190</td>\n",
       "      <td>51.406496</td>\n",
       "      <td>On or near Calder Close</td>\n",
       "      <td>E01014398</td>\n",
       "      <td>Bath and North East Somerset 003D</td>\n",
       "      <td>Violence and sexual offences</td>\n",
       "      <td>Formal action is not in the public interest</td>\n",
       "      <td>None</td>\n",
       "      <td>2015</td>\n",
       "    </tr>\n",
       "    <tr>\n",
       "      <th>98</th>\n",
       "      <td>01</td>\n",
       "      <td>Avon and Somerset Constabulary</td>\n",
       "      <td>Avon and Somerset Constabulary</td>\n",
       "      <td>-2.478811</td>\n",
       "      <td>51.413145</td>\n",
       "      <td>On or near Ashmead Road</td>\n",
       "      <td>E01014398</td>\n",
       "      <td>Bath and North East Somerset 003D</td>\n",
       "      <td>Violence and sexual offences</td>\n",
       "      <td>Offender fined</td>\n",
       "      <td>None</td>\n",
       "      <td>2015</td>\n",
       "    </tr>\n",
       "    <tr>\n",
       "      <th>99</th>\n",
       "      <td>01</td>\n",
       "      <td>Avon and Somerset Constabulary</td>\n",
       "      <td>Avon and Somerset Constabulary</td>\n",
       "      <td>-2.350626</td>\n",
       "      <td>51.400417</td>\n",
       "      <td>On or near Uphill Drive</td>\n",
       "      <td>E01014409</td>\n",
       "      <td>Bath and North East Somerset 004A</td>\n",
       "      <td>Anti-social behaviour</td>\n",
       "      <td>None</td>\n",
       "      <td>None</td>\n",
       "      <td>2015</td>\n",
       "    </tr>\n",
       "  </tbody>\n",
       "</table>\n",
       "<p>100 rows × 12 columns</p>\n",
       "</div>"
      ],
      "text/plain": [
       "   Month                     Reported by                    Falls within  \\\n",
       "0     01  Avon and Somerset Constabulary  Avon and Somerset Constabulary   \n",
       "1     01  Avon and Somerset Constabulary  Avon and Somerset Constabulary   \n",
       "2     01  Avon and Somerset Constabulary  Avon and Somerset Constabulary   \n",
       "3     01  Avon and Somerset Constabulary  Avon and Somerset Constabulary   \n",
       "4     01  Avon and Somerset Constabulary  Avon and Somerset Constabulary   \n",
       "..   ...                             ...                             ...   \n",
       "95    01  Avon and Somerset Constabulary  Avon and Somerset Constabulary   \n",
       "96    01  Avon and Somerset Constabulary  Avon and Somerset Constabulary   \n",
       "97    01  Avon and Somerset Constabulary  Avon and Somerset Constabulary   \n",
       "98    01  Avon and Somerset Constabulary  Avon and Somerset Constabulary   \n",
       "99    01  Avon and Somerset Constabulary  Avon and Somerset Constabulary   \n",
       "\n",
       "    Longitude   Latitude                     Location  LSOA code  \\\n",
       "0   -2.509930  51.410873      On or near Ludlow Close  E01014399   \n",
       "1   -2.512153  51.412941  On or near Heathfield Close  E01014399   \n",
       "2   -2.515816  51.408717    On or near Caroline Close  E01014399   \n",
       "3   -2.511761  51.409966  On or near Caernarvon Close  E01014399   \n",
       "4   -2.509126  51.416137   On or near St Francis Road  E01014399   \n",
       "..        ...        ...                          ...        ...   \n",
       "95  -2.483897  51.404600       On or near Witham Road  E01014398   \n",
       "96  -2.478811  51.413145      On or near Ashmead Road  E01014398   \n",
       "97  -2.484190  51.406496      On or near Calder Close  E01014398   \n",
       "98  -2.478811  51.413145      On or near Ashmead Road  E01014398   \n",
       "99  -2.350626  51.400417      On or near Uphill Drive  E01014409   \n",
       "\n",
       "                            LSOA name                    Crime type  \\\n",
       "0   Bath and North East Somerset 001A         Anti-social behaviour   \n",
       "1   Bath and North East Somerset 001A         Anti-social behaviour   \n",
       "2   Bath and North East Somerset 001A                      Burglary   \n",
       "3   Bath and North East Somerset 001A     Criminal damage and arson   \n",
       "4   Bath and North East Somerset 001A                   Other theft   \n",
       "..                                ...                           ...   \n",
       "95  Bath and North East Somerset 003D  Violence and sexual offences   \n",
       "96  Bath and North East Somerset 003D  Violence and sexual offences   \n",
       "97  Bath and North East Somerset 003D  Violence and sexual offences   \n",
       "98  Bath and North East Somerset 003D  Violence and sexual offences   \n",
       "99  Bath and North East Somerset 004A         Anti-social behaviour   \n",
       "\n",
       "                            Last outcome category Context  Year  \n",
       "0                                            None    None  2015  \n",
       "1                                            None    None  2015  \n",
       "2   Investigation complete; no suspect identified    None  2015  \n",
       "3   Investigation complete; no suspect identified    None  2015  \n",
       "4   Investigation complete; no suspect identified    None  2015  \n",
       "..                                            ...     ...   ...  \n",
       "95                    Unable to prosecute suspect    None  2015  \n",
       "96           Offender ordered to pay compensation    None  2015  \n",
       "97    Formal action is not in the public interest    None  2015  \n",
       "98                                 Offender fined    None  2015  \n",
       "99                                           None    None  2015  \n",
       "\n",
       "[100 rows x 12 columns]"
      ]
     },
     "execution_count": 264,
     "metadata": {},
     "output_type": "execute_result"
    }
   ],
   "source": [
    "df_temp"
   ]
  },
  {
   "cell_type": "code",
   "execution_count": null,
   "metadata": {},
   "outputs": [],
   "source": [
    "con.close()"
   ]
  }
 ],
 "metadata": {
  "kernelspec": {
   "display_name": "Python 3",
   "language": "python",
   "name": "python3"
  },
  "language_info": {
   "codemirror_mode": {
    "name": "ipython",
    "version": 3
   },
   "file_extension": ".py",
   "mimetype": "text/x-python",
   "name": "python",
   "nbconvert_exporter": "python",
   "pygments_lexer": "ipython3",
   "version": "3.7.6"
  }
 },
 "nbformat": 4,
 "nbformat_minor": 4
}
