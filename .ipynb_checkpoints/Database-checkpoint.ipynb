{
 "cells": [
  {
   "cell_type": "code",
   "execution_count": 65,
   "metadata": {},
   "outputs": [],
   "source": [
    "import numpy as np\n",
    "import pandas as pd\n",
    "import os\n",
    "import tqdm\n",
    "import sqlalchemy as sqlalchemy\n",
    "from sqlalchemy import create_engine\n",
    "import sqlite3\n",
    "import time"
   ]
  },
  {
   "cell_type": "code",
   "execution_count": 66,
   "metadata": {},
   "outputs": [
    {
     "data": {
      "text/plain": [
       "'C:\\\\Users\\\\20202431\\\\Desktop\\\\Year 2\\\\DC2\\\\Repository\\\\Data-Challenge-2'"
      ]
     },
     "execution_count": 66,
     "metadata": {},
     "output_type": "execute_result"
    }
   ],
   "source": [
    "dir=os.getcwd()\n",
    "dir"
   ]
  },
  {
   "cell_type": "code",
   "execution_count": 199,
   "metadata": {},
   "outputs": [
    {
     "name": "stderr",
     "output_type": "stream",
     "text": [
      " 43%|██████████████████████████████████▌                                             | 57/132 [00:00<00:00, 547.76it/s]"
     ]
    },
    {
     "name": "stdout",
     "output_type": "stream",
     "text": [
      "Wrong File!\n"
     ]
    },
    {
     "name": "stderr",
     "output_type": "stream",
     "text": [
      "100%|███████████████████████████████████████████████████████████████████████████████| 132/132 [00:01<00:00, 123.00it/s]"
     ]
    },
    {
     "name": "stdout",
     "output_type": "stream",
     "text": [
      "['C:\\\\Users\\\\20202431\\\\Desktop\\\\Year 2\\\\DC2\\\\Repository\\\\Data-Challenge-2\\\\Data_Challenge_2_Data\\\\2015-01\\\\2015-01-kent-street.csv', 'C:\\\\Users\\\\20202431\\\\Desktop\\\\Year 2\\\\DC2\\\\Repository\\\\Data-Challenge-2\\\\Data_Challenge_2_Data\\\\2015-01\\\\2015-01-metropolitan-street.csv', 'C:\\\\Users\\\\20202431\\\\Desktop\\\\Year 2\\\\DC2\\\\Repository\\\\Data-Challenge-2\\\\Data_Challenge_2_Data\\\\2015-01\\\\2015-01-northumbria-street.csv', 'C:\\\\Users\\\\20202431\\\\Desktop\\\\Year 2\\\\DC2\\\\Repository\\\\Data-Challenge-2\\\\Data_Challenge_2_Data\\\\2015-01\\\\2015-01-thames-valley-street.csv', 'C:\\\\Users\\\\20202431\\\\Desktop\\\\Year 2\\\\DC2\\\\Repository\\\\Data-Challenge-2\\\\Data_Challenge_2_Data\\\\2015-01\\\\2015-01-west-yorkshire-street.csv']\n"
     ]
    },
    {
     "name": "stderr",
     "output_type": "stream",
     "text": [
      "\n"
     ]
    }
   ],
   "source": [
    "col_names = [\"Crime ID\", \"Year and Month\", \"Reported by\", \"Falls within\", \"Longitude\", \"Latitude\", \"Location\", \"LSOA code\",\n",
    "             \"LSOA name\", \"Crime type\", \"Last outcome category\", \"Context\"]\n",
    "\n",
    "Crime_df = pd.DataFrame(columns = col_names)\n",
    "Districts_we_want = (\"-metropolitan-street.csv\", \"-thames-valley-street.csv\", \"-west-yorkshire-street.csv\",\n",
    "                     \"-northumbria-street.csv\", \"-kent-street.csv\")\n",
    "File_List = []\n",
    "District_List = []\n",
    "Main_Folder = os.listdir(dir + \"\\\\Data_Challenge_2_Data\")\n",
    "for month_folder in tqdm.tqdm(Main_Folder):\n",
    "    if month_folder == \".DS_Store\":\n",
    "        print(\"Wrong File!\")\n",
    "    else:\n",
    "        year = month_folder.split('-')[0]\n",
    "        month = month_folder.split('-')[1]\n",
    "        Sub_Folder = dir + \"\\\\Data_Challenge_2_Data\\\\\" + month_folder\n",
    "        if(2014 < int(year) < 2022): #set ==, > or < to select the years\n",
    "            for district_folder in os.listdir(Sub_Folder):\n",
    "                if district_folder.endswith(Districts_we_want): #('-street.csv'):\n",
    "                    filename = (Sub_Folder + \"\\\\\" + district_folder)\n",
    "                    File_List.append(filename)\n",
    "                    District_List.append(district_folder[8:-4]) #2012-01-avon-and-somerset-street.csv'\n",
    "print(File_List[:5])"
   ]
  },
  {
   "cell_type": "code",
   "execution_count": 200,
   "metadata": {},
   "outputs": [],
   "source": [
    "# 82 per file"
   ]
  },
  {
   "cell_type": "code",
   "execution_count": 201,
   "metadata": {},
   "outputs": [
    {
     "name": "stdout",
     "output_type": "stream",
     "text": [
      "Creating Database took: 4467.916057348251 seconds\n"
     ]
    }
   ],
   "source": [
    "startTime = time.time()\n",
    "# col_names = [\"Crime ID\", \"Month\", \"Year\", \"Reported by\", \"Falls within\", \"Longitude\", \"Latitude\", \"Location\", \"LSOA code\",\n",
    "#              \"LSOA name\", \"Crime type\", \"Last outcome category\", \"Context\", \"District\"]\n",
    "col_names = [\"Crime ID\", \"Month\", \"Year\", \"Falls within\", \"Longitude\", \"Latitude\", \"Location\", \"LSOA name\", \n",
    "             \"Crime type\", \"District\"]\n",
    "\n",
    "df_big = pd.DataFrame(columns = col_names)\n",
    "files = File_List[:2]\n",
    "for n in range(len(File_List)):\n",
    "    df_temp = pd.read_csv(File_List[n])\n",
    "    df_temp[\"District\"] = District_List[n]\n",
    "    df_temp[\"Year\"] = int(df_temp['Month'][0][:4])\n",
    "    df_temp[\"Month\"] = int(df_temp['Month'][0][5:])\n",
    "    df_temp.drop([\"Reported by\", \"LSOA name\", \"Last outcome category\", \"Context\"], axis=1, inplace = True)\n",
    "#     print(np.unique(df_temp[\"Crime type\"]))\n",
    "    df_big = df_big.append(df_temp, ignore_index = True)\n",
    "    \n",
    "engine = create_engine('sqlite:///police.db')       #SQL ALCHEMY CONNECTION\n",
    "df_big.to_sql(name = 'test_db', con = engine, if_exists = 'replace', index = False)  #Push this DF to database\n",
    "\n",
    "executionTime = (time.time() - startTime)\n",
    "print('Creating Database took: ' + str(executionTime) + ' seconds')"
   ]
  },
  {
   "cell_type": "code",
   "execution_count": 209,
   "metadata": {},
   "outputs": [
    {
     "data": {
      "text/plain": [
       "74.45"
      ]
     },
     "execution_count": 209,
     "metadata": {},
     "output_type": "execute_result"
    }
   ],
   "source": []
  },
  {
   "cell_type": "code",
   "execution_count": 202,
   "metadata": {},
   "outputs": [],
   "source": [
    "# df_big[\"Month\"] = pd.to_numeric(df_big[\"Month\"])\n",
    "# df_big[\"Year\"] = pd.to_numeric(df_big[\"Year\"])\n",
    "# df_big['Crime ID']= df_big['Crime ID'].astype(str)\n",
    "# df_big['Falls within']= df_big['Falls within'].astype(str)\n",
    "# df_small = df_big[:10]\n",
    "# df_small.info()"
   ]
  },
  {
   "cell_type": "code",
   "execution_count": 203,
   "metadata": {},
   "outputs": [],
   "source": [
    "# df_big[\"LSOA code\"].unique()"
   ]
  },
  {
   "cell_type": "code",
   "execution_count": 210,
   "metadata": {},
   "outputs": [],
   "source": [
    "con = sqlite3.connect('police.db')"
   ]
  },
  {
   "cell_type": "code",
   "execution_count": 211,
   "metadata": {},
   "outputs": [],
   "source": [
    "c = con.cursor()"
   ]
  },
  {
   "cell_type": "code",
   "execution_count": 213,
   "metadata": {},
   "outputs": [],
   "source": [
    "get_all = \"SELECT * FROM test_db LIMIT 100\"\n",
    "# get_all = \"SELECT * FROM test_db\"\n",
    "df_all = pd.read_sql_query(get_all, con) #Get Original tweets without any replies"
   ]
  },
  {
   "cell_type": "code",
   "execution_count": 214,
   "metadata": {},
   "outputs": [
    {
     "name": "stdout",
     "output_type": "stream",
     "text": [
      "<class 'pandas.core.frame.DataFrame'>\n",
      "RangeIndex: 100 entries, 0 to 99\n",
      "Data columns (total 11 columns):\n",
      " #   Column        Non-Null Count  Dtype  \n",
      "---  ------        --------------  -----  \n",
      " 0   Crime ID      81 non-null     object \n",
      " 1   Month         100 non-null    int64  \n",
      " 2   Year          100 non-null    int64  \n",
      " 3   Falls within  100 non-null    object \n",
      " 4   Longitude     100 non-null    float64\n",
      " 5   Latitude      100 non-null    float64\n",
      " 6   Location      100 non-null    object \n",
      " 7   LSOA name     0 non-null      object \n",
      " 8   Crime type    100 non-null    object \n",
      " 9   District      100 non-null    object \n",
      " 10  LSOA code     100 non-null    object \n",
      "dtypes: float64(2), int64(2), object(7)\n",
      "memory usage: 8.7+ KB\n"
     ]
    }
   ],
   "source": [
    "df_all.info()"
   ]
  },
  {
   "cell_type": "code",
   "execution_count": 215,
   "metadata": {},
   "outputs": [
    {
     "data": {
      "text/html": [
       "<div>\n",
       "<style scoped>\n",
       "    .dataframe tbody tr th:only-of-type {\n",
       "        vertical-align: middle;\n",
       "    }\n",
       "\n",
       "    .dataframe tbody tr th {\n",
       "        vertical-align: top;\n",
       "    }\n",
       "\n",
       "    .dataframe thead th {\n",
       "        text-align: right;\n",
       "    }\n",
       "</style>\n",
       "<table border=\"1\" class=\"dataframe\">\n",
       "  <thead>\n",
       "    <tr style=\"text-align: right;\">\n",
       "      <th></th>\n",
       "      <th>Crime ID</th>\n",
       "      <th>Month</th>\n",
       "      <th>Year</th>\n",
       "      <th>Falls within</th>\n",
       "      <th>Longitude</th>\n",
       "      <th>Latitude</th>\n",
       "      <th>Location</th>\n",
       "      <th>LSOA name</th>\n",
       "      <th>Crime type</th>\n",
       "      <th>District</th>\n",
       "      <th>LSOA code</th>\n",
       "    </tr>\n",
       "  </thead>\n",
       "  <tbody>\n",
       "    <tr>\n",
       "      <th>0</th>\n",
       "      <td>e061754419b34c7588b3d6948576e3761c90ef5dc9d194...</td>\n",
       "      <td>1</td>\n",
       "      <td>2015</td>\n",
       "      <td>Kent Police</td>\n",
       "      <td>0.962332</td>\n",
       "      <td>51.244504</td>\n",
       "      <td>On or near The Square</td>\n",
       "      <td>None</td>\n",
       "      <td>Robbery</td>\n",
       "      <td>kent-street</td>\n",
       "      <td>E01023987</td>\n",
       "    </tr>\n",
       "    <tr>\n",
       "      <th>1</th>\n",
       "      <td>49d5c5743d6fe02c48a6b12a55d609be1d5163f9a4d01e...</td>\n",
       "      <td>1</td>\n",
       "      <td>2015</td>\n",
       "      <td>Kent Police</td>\n",
       "      <td>0.957949</td>\n",
       "      <td>51.259716</td>\n",
       "      <td>On or near New Forest Lane</td>\n",
       "      <td>None</td>\n",
       "      <td>Vehicle crime</td>\n",
       "      <td>kent-street</td>\n",
       "      <td>E01023987</td>\n",
       "    </tr>\n",
       "    <tr>\n",
       "      <th>2</th>\n",
       "      <td>cc1ab1e64ac5a42c201c0bdeba0c6562e0a1fbedf76c3d...</td>\n",
       "      <td>1</td>\n",
       "      <td>2015</td>\n",
       "      <td>Kent Police</td>\n",
       "      <td>0.973755</td>\n",
       "      <td>51.242757</td>\n",
       "      <td>On or near Mill Lane</td>\n",
       "      <td>None</td>\n",
       "      <td>Burglary</td>\n",
       "      <td>kent-street</td>\n",
       "      <td>E01023988</td>\n",
       "    </tr>\n",
       "    <tr>\n",
       "      <th>3</th>\n",
       "      <td>a3fd9a5076df156f5c54e5c5a31c573a9d56660a3dd9d3...</td>\n",
       "      <td>1</td>\n",
       "      <td>2015</td>\n",
       "      <td>Kent Police</td>\n",
       "      <td>0.958882</td>\n",
       "      <td>51.218894</td>\n",
       "      <td>On or near Ashford Road</td>\n",
       "      <td>None</td>\n",
       "      <td>Violence and sexual offences</td>\n",
       "      <td>kent-street</td>\n",
       "      <td>E01023988</td>\n",
       "    </tr>\n",
       "    <tr>\n",
       "      <th>4</th>\n",
       "      <td>ada14c581307f2f7e1facb10b5a7d4ae608b40f3986ec8...</td>\n",
       "      <td>1</td>\n",
       "      <td>2015</td>\n",
       "      <td>Kent Police</td>\n",
       "      <td>0.958572</td>\n",
       "      <td>51.217850</td>\n",
       "      <td>On or near The Street</td>\n",
       "      <td>None</td>\n",
       "      <td>Violence and sexual offences</td>\n",
       "      <td>kent-street</td>\n",
       "      <td>E01023988</td>\n",
       "    </tr>\n",
       "    <tr>\n",
       "      <th>...</th>\n",
       "      <td>...</td>\n",
       "      <td>...</td>\n",
       "      <td>...</td>\n",
       "      <td>...</td>\n",
       "      <td>...</td>\n",
       "      <td>...</td>\n",
       "      <td>...</td>\n",
       "      <td>...</td>\n",
       "      <td>...</td>\n",
       "      <td>...</td>\n",
       "      <td>...</td>\n",
       "    </tr>\n",
       "    <tr>\n",
       "      <th>95</th>\n",
       "      <td>41ff314f2ca28c7ef696f13c304465e0cedfe8360b243c...</td>\n",
       "      <td>1</td>\n",
       "      <td>2015</td>\n",
       "      <td>Kent Police</td>\n",
       "      <td>0.848827</td>\n",
       "      <td>51.150167</td>\n",
       "      <td>On or near Juniper Close</td>\n",
       "      <td>None</td>\n",
       "      <td>Criminal damage and arson</td>\n",
       "      <td>kent-street</td>\n",
       "      <td>E01023993</td>\n",
       "    </tr>\n",
       "    <tr>\n",
       "      <th>96</th>\n",
       "      <td>985522ab8dca409a1147e246f821e136042b7a7f37d541...</td>\n",
       "      <td>1</td>\n",
       "      <td>2015</td>\n",
       "      <td>Kent Police</td>\n",
       "      <td>0.844329</td>\n",
       "      <td>51.151670</td>\n",
       "      <td>On or near Maple Close</td>\n",
       "      <td>None</td>\n",
       "      <td>Vehicle crime</td>\n",
       "      <td>kent-street</td>\n",
       "      <td>E01023993</td>\n",
       "    </tr>\n",
       "    <tr>\n",
       "      <th>97</th>\n",
       "      <td>ef178a67cd19d8e5aa18508127afb1bc6f0c52b7219d25...</td>\n",
       "      <td>1</td>\n",
       "      <td>2015</td>\n",
       "      <td>Kent Police</td>\n",
       "      <td>0.849594</td>\n",
       "      <td>51.151003</td>\n",
       "      <td>On or near Thornlea</td>\n",
       "      <td>None</td>\n",
       "      <td>Violence and sexual offences</td>\n",
       "      <td>kent-street</td>\n",
       "      <td>E01023993</td>\n",
       "    </tr>\n",
       "    <tr>\n",
       "      <th>98</th>\n",
       "      <td>3582c19fc79e545a72c72f574fab30e1bf263100ae4f90...</td>\n",
       "      <td>1</td>\n",
       "      <td>2015</td>\n",
       "      <td>Kent Police</td>\n",
       "      <td>0.847824</td>\n",
       "      <td>51.150821</td>\n",
       "      <td>On or near Yew Close</td>\n",
       "      <td>None</td>\n",
       "      <td>Violence and sexual offences</td>\n",
       "      <td>kent-street</td>\n",
       "      <td>E01023993</td>\n",
       "    </tr>\n",
       "    <tr>\n",
       "      <th>99</th>\n",
       "      <td>2d2882ef9d1d1a27d3ed58b275ace0e7c06be8a5ad342c...</td>\n",
       "      <td>1</td>\n",
       "      <td>2015</td>\n",
       "      <td>Kent Police</td>\n",
       "      <td>0.849594</td>\n",
       "      <td>51.151003</td>\n",
       "      <td>On or near Thornlea</td>\n",
       "      <td>None</td>\n",
       "      <td>Other crime</td>\n",
       "      <td>kent-street</td>\n",
       "      <td>E01023993</td>\n",
       "    </tr>\n",
       "  </tbody>\n",
       "</table>\n",
       "<p>100 rows × 11 columns</p>\n",
       "</div>"
      ],
      "text/plain": [
       "                                             Crime ID  Month  Year  \\\n",
       "0   e061754419b34c7588b3d6948576e3761c90ef5dc9d194...      1  2015   \n",
       "1   49d5c5743d6fe02c48a6b12a55d609be1d5163f9a4d01e...      1  2015   \n",
       "2   cc1ab1e64ac5a42c201c0bdeba0c6562e0a1fbedf76c3d...      1  2015   \n",
       "3   a3fd9a5076df156f5c54e5c5a31c573a9d56660a3dd9d3...      1  2015   \n",
       "4   ada14c581307f2f7e1facb10b5a7d4ae608b40f3986ec8...      1  2015   \n",
       "..                                                ...    ...   ...   \n",
       "95  41ff314f2ca28c7ef696f13c304465e0cedfe8360b243c...      1  2015   \n",
       "96  985522ab8dca409a1147e246f821e136042b7a7f37d541...      1  2015   \n",
       "97  ef178a67cd19d8e5aa18508127afb1bc6f0c52b7219d25...      1  2015   \n",
       "98  3582c19fc79e545a72c72f574fab30e1bf263100ae4f90...      1  2015   \n",
       "99  2d2882ef9d1d1a27d3ed58b275ace0e7c06be8a5ad342c...      1  2015   \n",
       "\n",
       "   Falls within  Longitude   Latitude                    Location LSOA name  \\\n",
       "0   Kent Police   0.962332  51.244504       On or near The Square      None   \n",
       "1   Kent Police   0.957949  51.259716  On or near New Forest Lane      None   \n",
       "2   Kent Police   0.973755  51.242757        On or near Mill Lane      None   \n",
       "3   Kent Police   0.958882  51.218894     On or near Ashford Road      None   \n",
       "4   Kent Police   0.958572  51.217850       On or near The Street      None   \n",
       "..          ...        ...        ...                         ...       ...   \n",
       "95  Kent Police   0.848827  51.150167    On or near Juniper Close      None   \n",
       "96  Kent Police   0.844329  51.151670      On or near Maple Close      None   \n",
       "97  Kent Police   0.849594  51.151003         On or near Thornlea      None   \n",
       "98  Kent Police   0.847824  51.150821        On or near Yew Close      None   \n",
       "99  Kent Police   0.849594  51.151003         On or near Thornlea      None   \n",
       "\n",
       "                      Crime type     District  LSOA code  \n",
       "0                        Robbery  kent-street  E01023987  \n",
       "1                  Vehicle crime  kent-street  E01023987  \n",
       "2                       Burglary  kent-street  E01023988  \n",
       "3   Violence and sexual offences  kent-street  E01023988  \n",
       "4   Violence and sexual offences  kent-street  E01023988  \n",
       "..                           ...          ...        ...  \n",
       "95     Criminal damage and arson  kent-street  E01023993  \n",
       "96                 Vehicle crime  kent-street  E01023993  \n",
       "97  Violence and sexual offences  kent-street  E01023993  \n",
       "98  Violence and sexual offences  kent-street  E01023993  \n",
       "99                   Other crime  kent-street  E01023993  \n",
       "\n",
       "[100 rows x 11 columns]"
      ]
     },
     "execution_count": 215,
     "metadata": {},
     "output_type": "execute_result"
    }
   ],
   "source": [
    "df_all"
   ]
  },
  {
   "cell_type": "code",
   "execution_count": 26,
   "metadata": {},
   "outputs": [],
   "source": [
    "# conn.close()"
   ]
  },
  {
   "cell_type": "code",
   "execution_count": null,
   "metadata": {},
   "outputs": [],
   "source": []
  },
  {
   "cell_type": "code",
   "execution_count": null,
   "metadata": {},
   "outputs": [],
   "source": []
  }
 ],
 "metadata": {
  "kernelspec": {
   "display_name": "Python 3",
   "language": "python",
   "name": "python3"
  },
  "language_info": {
   "codemirror_mode": {
    "name": "ipython",
    "version": 3
   },
   "file_extension": ".py",
   "mimetype": "text/x-python",
   "name": "python",
   "nbconvert_exporter": "python",
   "pygments_lexer": "ipython3",
   "version": "3.7.6"
  }
 },
 "nbformat": 4,
 "nbformat_minor": 4
}
